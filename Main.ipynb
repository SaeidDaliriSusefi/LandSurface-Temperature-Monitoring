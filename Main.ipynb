{
  "nbformat": 4,
  "nbformat_minor": 0,
  "metadata": {
    "colab": {
      "provenance": [],
      "include_colab_link": true
    },
    "kernelspec": {
      "name": "python3",
      "display_name": "Python 3"
    },
    "language_info": {
      "name": "python"
    }
  },
  "cells": [
    {
      "cell_type": "markdown",
      "metadata": {
        "id": "view-in-github",
        "colab_type": "text"
      },
      "source": [
        "<a href=\"https://colab.research.google.com/github/SaeidDaliriSusefi/LandSurfaceTemperature-Trend-Monitoring/blob/main/Main.ipynb\" target=\"_parent\"><img src=\"https://colab.research.google.com/assets/colab-badge.svg\" alt=\"Open In Colab\"/></a>"
      ]
    },
    {
      "cell_type": "code",
      "source": [
        "!pip install xee -q\n",
        "!pip install pymannkendall -q\n",
        "! pip install netCDF4 -q"
      ],
      "metadata": {
        "id": "ZaG7_Lgm8XsR"
      },
      "execution_count": 92,
      "outputs": []
    },
    {
      "cell_type": "markdown",
      "source": [
        "## Import Library"
      ],
      "metadata": {
        "id": "sXt1CY6-eU98"
      }
    },
    {
      "cell_type": "code",
      "source": [
        "import math\n",
        "import json\n",
        "import numpy as np\n",
        "import pandas as pd\n",
        "import matplotlib.pyplot as plt\n",
        "import matplotlib.colors as mcolors\n",
        "from matplotlib.ticker import FormatStrFormatter\n",
        "from mpl_toolkits.axes_grid1 import make_axes_locatable\n",
        "import ee\n",
        "import geemap\n",
        "import xee\n",
        "import xarray as xr\n",
        "import geopandas as gpd\n",
        "from shapely.geometry import MultiPolygon\n",
        "import pymannkendall as mk\n",
        "import requests\n",
        "from io import BytesIO\n",
        "import matplotlib.image as mpimg\n",
        "from matplotlib.cm import ScalarMappable\n",
        "from matplotlib.colors import LinearSegmentedColormap\n",
        "import os\n",
        "import matplotlib as mpl\n",
        "import pymannkendall as mk\n"
      ],
      "metadata": {
        "id": "tMt3YjeVbdlp"
      },
      "execution_count": 3,
      "outputs": []
    },
    {
      "cell_type": "markdown",
      "source": [
        "## Initialization of google earth engine"
      ],
      "metadata": {
        "id": "uAWkJrPJeit8"
      }
    },
    {
      "cell_type": "code",
      "source": [
        "ee.Authenticate()\n",
        "ee.Initialize(project=\"Your google earth engine project name\", opt_url='https://earthengine-highvolume.googleapis.com')"
      ],
      "metadata": {
        "colab": {
          "base_uri": "https://localhost:8080/",
          "height": 17
        },
        "id": "-tTryODbbgLM",
        "outputId": "60a40da9-1df2-48fd-d05f-cec83d25d106"
      },
      "execution_count": 4,
      "outputs": [
        {
          "output_type": "display_data",
          "data": {
            "text/plain": [
              "<IPython.core.display.HTML object>"
            ],
            "text/html": [
              "\n",
              "            <style>\n",
              "                .geemap-dark {\n",
              "                    --jp-widgets-color: white;\n",
              "                    --jp-widgets-label-color: white;\n",
              "                    --jp-ui-font-color1: white;\n",
              "                    --jp-layout-color2: #454545;\n",
              "                    background-color: #383838;\n",
              "                }\n",
              "\n",
              "                .geemap-dark .jupyter-button {\n",
              "                    --jp-layout-color3: #383838;\n",
              "                }\n",
              "\n",
              "                .geemap-colab {\n",
              "                    background-color: var(--colab-primary-surface-color, white);\n",
              "                }\n",
              "\n",
              "                .geemap-colab .jupyter-button {\n",
              "                    --jp-layout-color3: var(--colab-primary-surface-color, white);\n",
              "                }\n",
              "            </style>\n",
              "            "
            ]
          },
          "metadata": {}
        }
      ]
    },
    {
      "cell_type": "markdown",
      "source": [
        "## Inputs"
      ],
      "metadata": {
        "id": "PLqYS4Z9fKhH"
      }
    },
    {
      "cell_type": "code",
      "source": [
        "country_name='Italy'\n",
        "start_time = '1980-01-01'\n",
        "end_time = '2024-12-31'\n",
        "dataset_name=\"ECMWF/ERA5_LAND/MONTHLY_AGGR\"\n",
        "target_band='skin_temperature'                  # name of the datast\n",
        "final_band = 'Land Surface Temperature'                         # initial name of the band  that want to work on that\n",
        "data_unit= '(°C)'                                      # final vatiable names in plots\n",
        "operation='Average'                                    # final unit of data (not initial unit)\n",
        "period = 'Yearly'                                      # analysis interval\n",
        "resolution = 11132                                     # data resolution in meter\n",
        "scale_factor = 1                                       # from the metadeta defult=1\n",
        "offset_factor = 0                                      # from the metadeta defult=0\n",
        "unit_conversion_factor = 1                             #if to convert the unit the multiplication is required defult=1\n",
        "unit_conversion_offset = -273.15                       #if to convert the unit the add or subtraction is required defult=0"
      ],
      "metadata": {
        "id": "JOjsPNBE_qjH",
        "colab": {
          "base_uri": "https://localhost:8080/",
          "height": 17
        },
        "outputId": "2667036f-0b42-47f6-b356-84de6a64dc68"
      },
      "execution_count": 5,
      "outputs": [
        {
          "output_type": "display_data",
          "data": {
            "text/plain": [
              "<IPython.core.display.HTML object>"
            ],
            "text/html": [
              "\n",
              "            <style>\n",
              "                .geemap-dark {\n",
              "                    --jp-widgets-color: white;\n",
              "                    --jp-widgets-label-color: white;\n",
              "                    --jp-ui-font-color1: white;\n",
              "                    --jp-layout-color2: #454545;\n",
              "                    background-color: #383838;\n",
              "                }\n",
              "\n",
              "                .geemap-dark .jupyter-button {\n",
              "                    --jp-layout-color3: #383838;\n",
              "                }\n",
              "\n",
              "                .geemap-colab {\n",
              "                    background-color: var(--colab-primary-surface-color, white);\n",
              "                }\n",
              "\n",
              "                .geemap-colab .jupyter-button {\n",
              "                    --jp-layout-color3: var(--colab-primary-surface-color, white);\n",
              "                }\n",
              "            </style>\n",
              "            "
            ]
          },
          "metadata": {}
        }
      ]
    },
    {
      "cell_type": "markdown",
      "source": [
        "## Import Data"
      ],
      "metadata": {
        "id": "uceiVt-7AnNu"
      }
    },
    {
      "cell_type": "code",
      "source": [
        "country = ee.FeatureCollection('USDOS/LSIB_SIMPLE/2017') \\\n",
        "    .filter(ee.Filter.eq('country_na', country_name))\n",
        "roi=country.geometry()\n",
        "country_geojson = roi.getInfo()\n",
        "country_geojson_dict = json.dumps(country_geojson)\n",
        "country_gdf = gpd.read_file(country_geojson_dict)\n",
        "\n",
        "\n",
        "collection = ee.ImageCollection(dataset_name) \\\n",
        "    .select(target_band) \\\n",
        "    .filterDate(start_time, end_time)\\\n",
        "    .filterBounds(country)\\\n",
        "    .map(lambda image: image.clip(country))"
      ],
      "metadata": {
        "colab": {
          "base_uri": "https://localhost:8080/",
          "height": 17
        },
        "id": "4HDD288GATkB",
        "outputId": "9205cacf-0292-46b5-b4e3-384ec95776c0"
      },
      "execution_count": 6,
      "outputs": [
        {
          "output_type": "display_data",
          "data": {
            "text/plain": [
              "<IPython.core.display.HTML object>"
            ],
            "text/html": [
              "\n",
              "            <style>\n",
              "                .geemap-dark {\n",
              "                    --jp-widgets-color: white;\n",
              "                    --jp-widgets-label-color: white;\n",
              "                    --jp-ui-font-color1: white;\n",
              "                    --jp-layout-color2: #454545;\n",
              "                    background-color: #383838;\n",
              "                }\n",
              "\n",
              "                .geemap-dark .jupyter-button {\n",
              "                    --jp-layout-color3: #383838;\n",
              "                }\n",
              "\n",
              "                .geemap-colab {\n",
              "                    background-color: var(--colab-primary-surface-color, white);\n",
              "                }\n",
              "\n",
              "                .geemap-colab .jupyter-button {\n",
              "                    --jp-layout-color3: var(--colab-primary-surface-color, white);\n",
              "                }\n",
              "            </style>\n",
              "            "
            ]
          },
          "metadata": {}
        }
      ]
    },
    {
      "cell_type": "markdown",
      "source": [
        "## Convert Data to Xarray"
      ],
      "metadata": {
        "id": "uPtuEiaMfNQQ"
      }
    },
    {
      "cell_type": "code",
      "source": [
        "data =  xr.open_dataset(collection, engine = 'ee', crs = 'EPSG:4326', scale = resolution/111320 ,geometry=roi)\n",
        "data =((data*(scale_factor)+(offset_factor))*(unit_conversion_factor))+(unit_conversion_offset)\n",
        "data = data.rename({f'{target_band}': f'{final_band}'})\n",
        "data = data.rename({'time': 'Date'})"
      ],
      "metadata": {
        "colab": {
          "base_uri": "https://localhost:8080/",
          "height": 17
        },
        "id": "bUQKvcP9jp1n",
        "outputId": "460b5e53-33a6-4816-8246-2430a0c1482d"
      },
      "execution_count": 7,
      "outputs": [
        {
          "output_type": "display_data",
          "data": {
            "text/plain": [
              "<IPython.core.display.HTML object>"
            ],
            "text/html": [
              "\n",
              "            <style>\n",
              "                .geemap-dark {\n",
              "                    --jp-widgets-color: white;\n",
              "                    --jp-widgets-label-color: white;\n",
              "                    --jp-ui-font-color1: white;\n",
              "                    --jp-layout-color2: #454545;\n",
              "                    background-color: #383838;\n",
              "                }\n",
              "\n",
              "                .geemap-dark .jupyter-button {\n",
              "                    --jp-layout-color3: #383838;\n",
              "                }\n",
              "\n",
              "                .geemap-colab {\n",
              "                    background-color: var(--colab-primary-surface-color, white);\n",
              "                }\n",
              "\n",
              "                .geemap-colab .jupyter-button {\n",
              "                    --jp-layout-color3: var(--colab-primary-surface-color, white);\n",
              "                }\n",
              "            </style>\n",
              "            "
            ]
          },
          "metadata": {}
        }
      ]
    },
    {
      "cell_type": "markdown",
      "source": [
        "## Data Aggregation"
      ],
      "metadata": {
        "id": "RIuVBYUGqDiY"
      }
    },
    {
      "cell_type": "code",
      "source": [
        "data_aggrigated=data.resample(Date='YE').mean('Date')                # Yearly\n",
        "#data_aggrigated=data.resample(Date='M').mean('Date')                # Montly\n",
        "#data_aggrigated=data.resample(Date='W').mean('Date')                # Weekly\n",
        "\n",
        "\n",
        "#data_aggrigated=data.resample(Date='YE').sum('Date')                # Yearly\n",
        "#data_aggrigated=data.resample(Date='M').sum('Date')                 # Montly\n",
        "#data_aggrigated=data.resample(Date='W').sum('Date')                 # Weekly"
      ],
      "metadata": {
        "colab": {
          "base_uri": "https://localhost:8080/",
          "height": 17
        },
        "id": "9Ix27p2-pqb3",
        "outputId": "7aece8e6-b50f-46a9-b4e3-48d2ad7562f4"
      },
      "execution_count": 8,
      "outputs": [
        {
          "output_type": "display_data",
          "data": {
            "text/plain": [
              "<IPython.core.display.HTML object>"
            ],
            "text/html": [
              "\n",
              "            <style>\n",
              "                .geemap-dark {\n",
              "                    --jp-widgets-color: white;\n",
              "                    --jp-widgets-label-color: white;\n",
              "                    --jp-ui-font-color1: white;\n",
              "                    --jp-layout-color2: #454545;\n",
              "                    background-color: #383838;\n",
              "                }\n",
              "\n",
              "                .geemap-dark .jupyter-button {\n",
              "                    --jp-layout-color3: #383838;\n",
              "                }\n",
              "\n",
              "                .geemap-colab {\n",
              "                    background-color: var(--colab-primary-surface-color, white);\n",
              "                }\n",
              "\n",
              "                .geemap-colab .jupyter-button {\n",
              "                    --jp-layout-color3: var(--colab-primary-surface-color, white);\n",
              "                }\n",
              "            </style>\n",
              "            "
            ]
          },
          "metadata": {}
        }
      ]
    },
    {
      "cell_type": "markdown",
      "source": [
        "##  Yearly Average Land Surface Temperature Italy"
      ],
      "metadata": {
        "id": "3zukpoqx_m4T"
      }
    },
    {
      "cell_type": "code",
      "source": [
        "ds_mean=data_aggrigated\n",
        "ds_mean['Date'] = ds_mean['Date'].dt.year\n",
        "\n",
        "vmin = ds_mean[final_band].min().item()\n",
        "vmax = ds_mean[final_band].max().item()\n",
        "\n",
        "n_years = len(ds_mean['Date'])\n",
        "ncols = 5\n",
        "nrows = int(np.ceil(n_years / ncols))\n",
        "figsize = (ncols * 4, nrows * 3.5)\n",
        "\n",
        "plot = ds_mean[final_band].plot(\n",
        "    x='lon', y='lat',\n",
        "    col='Date', col_wrap=ncols,\n",
        "    cmap='jet',\n",
        "    vmin=vmin, vmax=vmax,\n",
        "    add_colorbar=False,\n",
        "    figsize=figsize\n",
        ")\n",
        "\n",
        "fig = plot.fig\n",
        "fig.subplots_adjust(right=0.88, wspace=0.15, hspace=0.25)\n",
        "\n",
        "cbar_ax = fig.add_axes([0.92, 0.015, 0.02, 0.975])\n",
        "norm = mpl.colors.Normalize(vmin=vmin, vmax=vmax)\n",
        "sm = plt.cm.ScalarMappable(cmap='jet', norm=norm)\n",
        "sm.set_array([])\n",
        "cbar = fig.colorbar(sm, cax=cbar_ax)\n",
        "cbar.set_label(f'{final_band} {data_unit}', fontsize=12)\n",
        "\n",
        "for ax in plot.axs.flat:\n",
        "    country_gdf.boundary.plot(ax=ax, edgecolor='black', linewidth=0.5)\n",
        "\n",
        "plt.savefig(f'{period} {operation} {final_band} {country_name}',dpi=600)\n",
        "ds_mean.to_netcdf('yearly_aggregated_data.nc')\n",
        "\n",
        "plt.show()"
      ],
      "metadata": {
        "id": "FCiptxEali8K"
      },
      "execution_count": 9,
      "outputs": []
    },
    {
      "cell_type": "markdown",
      "source": [
        "## Trend Chart Average Land Surface Temperature over the Italy"
      ],
      "metadata": {
        "id": "ri9QTYpy_5iq"
      }
    },
    {
      "cell_type": "code",
      "source": [
        "annual_avg = data_aggrigated[final_band].mean(dim=['lat', 'lon']).groupby('Date').mean()\n",
        "\n",
        "years = annual_avg.coords['Date'].values\n",
        "temps = annual_avg.values\n",
        "\n",
        "\n",
        "m, b = np.polyfit(years, temps, 1)\n",
        "trendline = m * years + b\n",
        "\n",
        "\n",
        "plt.figure(figsize=(20, 5))\n",
        "plt.plot(years, temps, marker='o', label=f'{operation} {final_band}')\n",
        "plt.plot(years, trendline, color='red', linestyle='--', label=f'Trendline (slope = {m:.2f} {data_unit}/year)')\n",
        "\n",
        "plt.title(f'Annual {operation} {final_band} Over {country_name}', fontsize=16)\n",
        "plt.xlabel('Year', fontsize=14)\n",
        "plt.ylabel(f'{final_band}{data_unit}', fontsize=14)\n",
        "plt.grid(True)\n",
        "plt.legend()\n",
        "\n",
        "plt.savefig(f'Trend Chart {operation} {final_band} over the {country_name}', dpi=600)\n",
        "plt.show()\n"
      ],
      "metadata": {
        "id": "8s98DoYnQAiD"
      },
      "execution_count": null,
      "outputs": []
    },
    {
      "cell_type": "markdown",
      "source": [
        "## Long Term Average Land Surface Temperature Italy"
      ],
      "metadata": {
        "id": "t6asy85DyGgW"
      }
    },
    {
      "cell_type": "code",
      "source": [
        "ds_mean_longterm = ds_mean.mean('Date')\n",
        "vmin = ds_mean_longterm[final_band].min().item()\n",
        "vmax = ds_mean_longterm[final_band].max().item()\n",
        "\n",
        "fig, ax = plt.subplots(figsize=(6, 4))\n",
        "\n",
        "pl = ds_mean_longterm[final_band].plot(\n",
        "    x='lon', y='lat', cmap='jet', vmin=vmin, vmax=vmax, ax=ax\n",
        ")\n",
        "\n",
        "country_gdf.boundary.plot(ax=ax, edgecolor='black', linewidth=0.75)\n",
        "\n",
        "cbar = pl.colorbar\n",
        "cbar.set_label(f'{final_band} {data_unit}', fontsize=10)\n",
        "\n",
        "plt.savefig(f'Long Term {operation} {final_band} {country_name}', dpi=600)\n",
        "plt.show()\n"
      ],
      "metadata": {
        "id": "YE9pdy3yliyx"
      },
      "execution_count": null,
      "outputs": []
    },
    {
      "cell_type": "markdown",
      "source": [
        "## Anomaly Yearly Average Land Surface Temperature Respect to Long Term Average Italy"
      ],
      "metadata": {
        "id": "Jmstb9nfAK7-"
      }
    },
    {
      "cell_type": "code",
      "source": [
        "anomaly_lomgterm_mean = ds_mean-ds_mean_longterm\n",
        "\n",
        "vmin = anomaly_lomgterm_mean[final_band].min().item()\n",
        "vmax = anomaly_lomgterm_mean[final_band].max().item()\n",
        "\n",
        "\n",
        "n_years = len(anomaly_lomgterm_mean['Date'])\n",
        "nrows = int(np.ceil(n_years / ncols))\n",
        "figsize = (ncols * 4, nrows * 3.5)\n",
        "\n",
        "plot = anomaly_lomgterm_mean[final_band].plot(\n",
        "    x='lon', y='lat',\n",
        "    col='Date', col_wrap=ncols,\n",
        "    cmap='jet',\n",
        "    vmin=vmin, vmax=vmax,\n",
        "    add_colorbar=False,\n",
        "    figsize=figsize\n",
        ")\n",
        "\n",
        "\n",
        "fig = plot.fig\n",
        "fig.subplots_adjust(right=0.88, wspace=0.15, hspace=0.25)\n",
        "\n",
        "cbar_ax = fig.add_axes([0.92, 0.015, 0.02, 0.975])\n",
        "norm = mpl.colors.Normalize(vmin=vmin, vmax=vmax)\n",
        "sm = plt.cm.ScalarMappable(cmap='jet', norm=norm)\n",
        "sm.set_array([])\n",
        "cbar = fig.colorbar(sm, cax=cbar_ax)\n",
        "cbar.set_label(f'{final_band} {data_unit}', fontsize=12)\n",
        "\n",
        "\n",
        "for ax in plot.axs.flat:\n",
        "    country_gdf.boundary.plot(ax=ax, edgecolor='black', linewidth=0.5)  # Adjust thickness here\n",
        "\n",
        "plt.savefig(f'Anomaly {period} {operation} {final_band} Respect to Long Term {operation} {country_name}',dpi=600)\n",
        "plt.show()"
      ],
      "metadata": {
        "id": "4QygKQe2bey8"
      },
      "execution_count": null,
      "outputs": []
    },
    {
      "cell_type": "markdown",
      "source": [
        "## Anomaly Average Land Surface Temperature Respect to Average Yearly 1980 Italy"
      ],
      "metadata": {
        "id": "ecggUiThAsBv"
      }
    },
    {
      "cell_type": "code",
      "source": [
        "reference_date= 1980\n",
        "reference = ds_mean.sel(Date=reference_date, method='nearest')\n",
        "anomaly_reference = ds_mean - reference\n",
        "\n",
        "vmin = anomaly_reference[final_band].min().item()\n",
        "vmax = anomaly_reference[final_band].max().item()\n",
        "\n",
        "n_years = len(anomaly_reference['Date'])\n",
        "nrows = int(np.ceil(n_years / ncols))\n",
        "figsize = (ncols * 4, nrows * 3.5)\n",
        "\n",
        "plot = anomaly_reference[final_band].plot(\n",
        "    x='lon', y='lat',\n",
        "    col='Date', col_wrap=ncols,\n",
        "    cmap='jet',\n",
        "    vmin=vmin, vmax=vmax,\n",
        "    add_colorbar=False,\n",
        "    figsize=figsize\n",
        ")\n",
        "\n",
        "fig = plot.fig\n",
        "fig.subplots_adjust(right=0.88, wspace=0.15, hspace=0.25)\n",
        "\n",
        "cbar_ax = fig.add_axes([0.92, 0.015, 0.02, 0.975])\n",
        "norm = mpl.colors.Normalize(vmin=vmin, vmax=vmax)\n",
        "sm = plt.cm.ScalarMappable(cmap='jet', norm=norm)\n",
        "sm.set_array([])\n",
        "cbar = fig.colorbar(sm, cax=cbar_ax)\n",
        "cbar.set_label(f'{final_band} {data_unit}', fontsize=12)\n",
        "\n",
        "\n",
        "for ax in plot.axs.flat:\n",
        "    country_gdf.boundary.plot(ax=ax, edgecolor='black', linewidth=0.5)\n",
        "\n",
        "plt.savefig(f'Anomaly {operation} {final_band} Respect to Average {period} {reference_date} {country_name}',dpi=600)\n",
        "plt.show()"
      ],
      "metadata": {
        "id": "wmbEV3bE3PIL"
      },
      "execution_count": null,
      "outputs": []
    },
    {
      "cell_type": "markdown",
      "source": [
        "## Trend Plots Italy"
      ],
      "metadata": {
        "id": "OSsM8N-t-8VT"
      }
    },
    {
      "cell_type": "code",
      "source": [
        "def mk_test(img):\n",
        "    img = np.array(img)\n",
        "    img = img[~np.isnan(img)]\n",
        "    if len(img) <= 1:\n",
        "        return 0, np.nan, np.nan\n",
        "    try:\n",
        "        test = mk.original_test(img)\n",
        "        trend_class = {'increasing': 1, 'decreasing': -1, 'no_trend': 0}\n",
        "        trend_reclass = trend_class.get(test.trend, 0)\n",
        "        return trend_reclass, test.s, test.p\n",
        "    except:\n",
        "        return 0, np.nan, np.nan\n",
        "\n",
        "\n",
        "change_trend, change_score, change_pval = xr.apply_ufunc(\n",
        "    mk_test,\n",
        "    data[final_band],\n",
        "    input_core_dims=[['Date']],\n",
        "    output_core_dims=[[], [], []],\n",
        "    vectorize=True,\n",
        "    dask='allowed',\n",
        "    output_dtypes=['int', 'float64', 'float64']\n",
        ")\n",
        "\n",
        "\n",
        "\n",
        "change_trend = change_trend.rename('trend')\n",
        "max_score = change_score.max().values\n",
        "change_score = change_score.rename('score') /max_score\n",
        "change_pval = change_pval.rename('p_value')\n",
        "\n",
        "\n",
        "\n",
        "custom_cmap_tr = LinearSegmentedColormap.from_list(\n",
        "    'blue-white-red',\n",
        "    ['blue', 'white', 'red'],\n",
        "    N=256\n",
        ")\n",
        "\n",
        "\n",
        "fig, ax = plt.subplots(1, 3, figsize=(20, 5))\n",
        "plt.tight_layout()\n",
        "\n",
        "\n",
        "c1 = change_trend.plot(x='lon', y='lat', ax=ax[0], cmap=custom_cmap_tr, vmin=-1, vmax=1)\n",
        "ax[0].set_title('Trend')\n",
        "\n",
        "\n",
        "cbar = c1.colorbar\n",
        "cbar.set_ticks([-1, 0, 1])\n",
        "cbar.set_ticklabels(['Decrease', 'No Trend', 'Increase'])\n",
        "cbar.set_label('')\n",
        "\n",
        "for ax_ in ax:\n",
        "    country_gdf.boundary.plot(ax=ax_, edgecolor='black', linewidth=0.5)\n",
        "\n",
        "\n",
        "\n",
        "c2 = change_score.plot(x='lon', y='lat', ax=ax[1], cmap='viridis', vmin=0, vmax=1)\n",
        "ax[1].set_title('Trend Intensity')\n",
        "cbar = c2.colorbar\n",
        "cbar.set_ticks([0, 0.5, 1])\n",
        "cbar.set_ticklabels(['Low', 'Moderate', 'High'])\n",
        "cbar.set_label('')\n",
        "\n",
        "\n",
        "for ax_ in ax:\n",
        "    country_gdf.boundary.plot(ax=ax_, edgecolor='black', linewidth=0.5)\n",
        "\n",
        "\n",
        "c3 = change_pval.plot(x='lon', y='lat', ax=ax[2], cmap='plasma')\n",
        "ax[2].set_title('Statistically Significant')\n",
        "cbar = c3.colorbar\n",
        "\n",
        "\n",
        "max_p = change_pval.max().values\n",
        "min_p = change_pval.max().values\n",
        "\n",
        "cbar.set_ticks([min_p, max_p/2, max_p])\n",
        "cbar.set_ticklabels(['High', 'Moderate', 'Low'])\n",
        "cbar.set_label('')\n",
        "\n",
        "for ax_ in ax:\n",
        "    country_gdf.boundary.plot(ax=ax_, edgecolor='black', linewidth=0.5)\n",
        "\n",
        "\n",
        "plt.savefig(f'Trend {country_name}', dpi=600)\n",
        "plt.show()"
      ],
      "metadata": {
        "id": "MiYu-bsymKuQ"
      },
      "execution_count": 13,
      "outputs": []
    }
  ]
}